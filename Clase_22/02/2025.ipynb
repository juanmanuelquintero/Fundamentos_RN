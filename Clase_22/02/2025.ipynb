{
  "nbformat": 4,
  "nbformat_minor": 0,
  "metadata": {
    "colab": {
      "provenance": [],
      "authorship_tag": "ABX9TyMLQi6Cs8I1RnnOUyX9Pvol",
      "include_colab_link": true
    },
    "kernelspec": {
      "name": "python3",
      "display_name": "Python 3"
    },
    "language_info": {
      "name": "python"
    }
  },
  "cells": [
    {
      "cell_type": "markdown",
      "metadata": {
        "id": "view-in-github",
        "colab_type": "text"
      },
      "source": [
        "<a href=\"https://colab.research.google.com/github/juanmanuelquintero/Fundamentos_RN/blob/main/Clase_22/02/2025.ipynb\" target=\"_parent\"><img src=\"https://colab.research.google.com/assets/colab-badge.svg\" alt=\"Open In Colab\"/></a>"
      ]
    },
    {
      "cell_type": "markdown",
      "source": [
        "Compuerta AND"
      ],
      "metadata": {
        "id": "wxB3YQDwPHoA"
      }
    },
    {
      "cell_type": "code",
      "execution_count": 3,
      "metadata": {
        "colab": {
          "base_uri": "https://localhost:8080/"
        },
        "id": "uorC9tyZNvsm",
        "outputId": "f0945b75-146d-4a4a-fa76-d208d04496ed"
      },
      "outputs": [
        {
          "output_type": "stream",
          "name": "stdout",
          "text": [
            "Compuerta LOGICA OR\n",
            "\n",
            "Input: (1, 1) Output: 1\n",
            "Input: (1, 0) Output: 0\n",
            "Input: (0, 1) Output: 0\n",
            "Input: (0, 0) Output: 0\n"
          ]
        }
      ],
      "source": [
        "import numpy as np #libreria sirve para trabajar con vectores y operaciones matematicas\n",
        "\n",
        "#Paso 2 Crear la clase\n",
        "class MccullochPittsNeuron:\n",
        "  def __init__(self, weights, threshold): #CONSTRUCTOR DE LA NEURONA\n",
        "    self.weights = np.array(weights)  #CLNVERTIMOS LOS PESS EN UN ARRAY DE NUMPY\n",
        "    self.threshold = threshold    # ASIGNAMOS EL UMBRAL DE ACTIVACION\n",
        "\n",
        "  def activate(self, inputs):\n",
        "    inputs = np.array(inputs) #Convertir las entradas en un array de numpy\n",
        "    weighted_sum = np.dot(self.weights, inputs) #Esto toma la suma ponderada\n",
        "    return 1 if weighted_sum >= self.threshold else 0 # Si la suma supera el umbral devuelve 1 si no 0\n",
        "\n",
        "    #Definir pesos y umbral\n",
        "\n",
        "weights = [1, 1] #Pesos de la neurona\n",
        "threshold = 2  #Umbral\n",
        "\n",
        "\n",
        "#CREAR LA NEURONA\n",
        "\n",
        "neuron = MccullochPittsNeuron(weights, threshold)\n",
        "inputs_list = [(1,1),(1,0),(0,1),(0,0)]\n",
        "#Definir ñas entradas (Ejemplo de compuerta logica OR)\n",
        "\n",
        "#Evaluar la neurona\n",
        "print(\"Compuerta LOGICA AND\\n\")\n",
        "for inputs in inputs_list:\n",
        "  output = neuron.activate(inputs)\n",
        "  print(f\"Input: {inputs} Output: {output}\")"
      ]
    },
    {
      "cell_type": "markdown",
      "source": [
        "Compuerta OR"
      ],
      "metadata": {
        "id": "zhlbMZmDOdPy"
      }
    },
    {
      "cell_type": "code",
      "source": [
        "import numpy as np #libreria sirve para trabajar con vectores y operaciones matematicas\n",
        "\n",
        "#Paso 2 Crear la clase\n",
        "class MccullochPittsNeuron:\n",
        "  def __init__(self, weights, threshold): #CONSTRUCTOR DE LA NEURONA\n",
        "    self.weights = np.array(weights)  #CLNVERTIMOS LOS PESS EN UN ARRAY DE NUMPY\n",
        "    self.threshold = threshold    # ASIGNAMOS EL UMBRAL DE ACTIVACION\n",
        "\n",
        "  def activate(self, inputs):\n",
        "    inputs = np.array(inputs) #Convertir las entradas en un array de numpy\n",
        "    weighted_sum = np.dot(self.weights, inputs) #Esto toma la suma ponderada\n",
        "    return 1 if weighted_sum >= self.threshold else 0 # Si la suma supera el umbral devuelve 1 si no 0\n",
        "\n",
        "    #Definir pesos y umbral\n",
        "\n",
        "weights = [1, 1] #Pesos de la neurona\n",
        "threshold = 1  #Umbral\n",
        "\n",
        "\n",
        "#CREAR LA NEURONA\n",
        "\n",
        "neuron = MccullochPittsNeuron(weights, threshold)\n",
        "inputs_list = [(1,1),(1,0),(0,1),(0,0)]\n",
        "#Definir ñas entradas (Ejemplo de compuerta logica OR)\n",
        "\n",
        "#Evaluar la neurona\n",
        "print(\"Compuerta LOGICA OR\\n\")\n",
        "for inputs in inputs_list:\n",
        "  output = neuron.activate(inputs)\n",
        "  print(f\"Input: {inputs} Output: {output}\")"
      ],
      "metadata": {
        "id": "XhDOQdAMOnI9"
      },
      "execution_count": null,
      "outputs": []
    },
    {
      "cell_type": "markdown",
      "source": [
        "Compuerta NAND"
      ],
      "metadata": {
        "id": "gRDyzPy6PQn0"
      }
    },
    {
      "cell_type": "code",
      "source": [
        "import numpy as np #libreria sirve para trabajar con vectores y operaciones matematicas\n",
        "\n",
        "#Paso 2 Crear la clase\n",
        "class MccullochPittsNeuron:\n",
        "  def __init__(self, weights, threshold): #CONSTRUCTOR DE LA NEURONA\n",
        "    self.weights = np.array(weights)  #CLNVERTIMOS LOS PESS EN UN ARRAY DE NUMPY\n",
        "    self.threshold = threshold    # ASIGNAMOS EL UMBRAL DE ACTIVACION\n",
        "\n",
        "  def activate(self, inputs):\n",
        "    inputs = np.array(inputs) #Convertir las entradas en un array de numpy\n",
        "    weighted_sum = np.dot(self.weights, inputs) #Esto toma la suma ponderada\n",
        "    return 1 if weighted_sum >= self.threshold else 0 # Si la suma supera el umbral devuelve 1 si no 0\n",
        "\n",
        "    #Definir pesos y umbral\n",
        "\n",
        "weights = [-1, -1] #Pesos de la neurona\n",
        "threshold = -1  #Umbral\n",
        "\n",
        "\n",
        "#CREAR LA NEURONA\n",
        "\n",
        "neuron = MccullochPittsNeuron(weights, threshold)\n",
        "inputs_list = [(1,1),(1,0),(0,1),(0,0)]\n",
        "#Definir ñas entradas (Ejemplo de compuerta logica OR)\n",
        "\n",
        "#Evaluar la neurona\n",
        "print(\"Compuerta LOGICA NAND\\n\")\n",
        "for inputs in inputs_list:\n",
        "  output = neuron.activate(inputs)\n",
        "  print(f\"Input: {inputs} Output: {output}\")"
      ],
      "metadata": {
        "colab": {
          "base_uri": "https://localhost:8080/"
        },
        "id": "y2aDWssfPVzn",
        "outputId": "fc30e074-7978-4ac1-8ed9-eb0a618078e4"
      },
      "execution_count": 4,
      "outputs": [
        {
          "output_type": "stream",
          "name": "stdout",
          "text": [
            "Compuerta LOGICA OR\n",
            "\n",
            "Input: (1, 1) Output: 0\n",
            "Input: (1, 0) Output: 1\n",
            "Input: (0, 1) Output: 1\n",
            "Input: (0, 0) Output: 1\n"
          ]
        }
      ]
    },
    {
      "cell_type": "markdown",
      "source": [
        "Compuerta NOR"
      ],
      "metadata": {
        "id": "oZc4bYG1Pfzz"
      }
    },
    {
      "cell_type": "code",
      "source": [
        "import numpy as np #libreria sirve para trabajar con vectores y operaciones matematicas\n",
        "\n",
        "#Paso 2 Crear la clase\n",
        "class MccullochPittsNeuron:\n",
        "  def __init__(self, weights, threshold): #CONSTRUCTOR DE LA NEURONA\n",
        "    self.weights = np.array(weights)  #CLNVERTIMOS LOS PESS EN UN ARRAY DE NUMPY\n",
        "    self.threshold = threshold    # ASIGNAMOS EL UMBRAL DE ACTIVACION\n",
        "\n",
        "  def activate(self, inputs):\n",
        "    inputs = np.array(inputs) #Convertir las entradas en un array de numpy\n",
        "    weighted_sum = np.dot(self.weights, inputs) #Esto toma la suma ponderada\n",
        "    return 1 if weighted_sum >= self.threshold else 0 # Si la suma supera el umbral devuelve 1 si no 0\n",
        "\n",
        "    #Definir pesos y umbral\n",
        "\n",
        "weights = [-1, -1] #Pesos de la neurona\n",
        "threshold = 0  #Umbral\n",
        "\n",
        "\n",
        "#CREAR LA NEURONA\n",
        "\n",
        "neuron = MccullochPittsNeuron(weights, threshold)\n",
        "inputs_list = [(1,1),(1,0),(0,1),(0,0)]\n",
        "#Definir ñas entradas (Ejemplo de compuerta logica OR)\n",
        "\n",
        "#Evaluar la neurona\n",
        "print(\"Compuerta LOGICA OR\\n\")\n",
        "for inputs in inputs_list:\n",
        "  output = neuron.activate(inputs)\n",
        "  print(f\"Input: {inputs} Output: {output}\")"
      ],
      "metadata": {
        "colab": {
          "base_uri": "https://localhost:8080/"
        },
        "id": "6iVUVCQ_Pj2I",
        "outputId": "190eae05-0aa6-4943-a538-634e479d9b16"
      },
      "execution_count": 5,
      "outputs": [
        {
          "output_type": "stream",
          "name": "stdout",
          "text": [
            "Compuerta LOGICA OR\n",
            "\n",
            "Input: (1, 1) Output: 0\n",
            "Input: (1, 0) Output: 0\n",
            "Input: (0, 1) Output: 0\n",
            "Input: (0, 0) Output: 1\n"
          ]
        }
      ]
    },
    {
      "cell_type": "markdown",
      "source": [
        "Compuerta NOT\n"
      ],
      "metadata": {
        "id": "DN2snioLPupB"
      }
    },
    {
      "cell_type": "code",
      "source": [
        "import numpy as np #libreria sirve para trabajar con vectores y operaciones matematicas\n",
        "\n",
        "#Paso 2 Crear la clase\n",
        "class MccullochPittsNeuron:\n",
        "  def __init__(self, weights, threshold): #CONSTRUCTOR DE LA NEURONA\n",
        "    self.weights = np.array(weights)  #CLNVERTIMOS LOS PESS EN UN ARRAY DE NUMPY\n",
        "    self.threshold = threshold    # ASIGNAMOS EL UMBRAL DE ACTIVACION\n",
        "\n",
        "  def activate(self, inputs):\n",
        "    inputs = np.array(inputs) #Convertir las entradas en un array de numpy\n",
        "    weighted_sum = np.dot(self.weights, inputs) #Esto toma la suma ponderada\n",
        "    return 1 if weighted_sum >= self.threshold else 0 # Si la suma supera el umbral devuelve 1 si no 0\n",
        "\n",
        "    #Definir pesos y umbral\n",
        "\n",
        "weights = [-1] #Pesos de la neurona\n",
        "threshold = 0  #Umbral\n",
        "\n",
        "\n",
        "#CREAR LA NEURONA\n",
        "\n",
        "neuron = MccullochPittsNeuron(weights, threshold)\n",
        "inputs_list = [(1),(0)]\n",
        "#Definir ñas entradas (Ejemplo de compuerta logica OR)\n",
        "\n",
        "#Evaluar la neurona\n",
        "print(\"Compuerta LOGICA NOT\\n\")\n",
        "for inputs in inputs_list:\n",
        "  output = neuron.activate(inputs)\n",
        "  print(f\"Input: {inputs} Output: {output}\")"
      ],
      "metadata": {
        "colab": {
          "base_uri": "https://localhost:8080/"
        },
        "id": "4XAAwhvLPzwI",
        "outputId": "4ca2ec08-2e89-4f9b-e71e-4c813bc20b71"
      },
      "execution_count": 7,
      "outputs": [
        {
          "output_type": "stream",
          "name": "stdout",
          "text": [
            "Compuerta LOGICA NOT\n",
            "\n",
            "Input: 1 Output: 0\n",
            "Input: 0 Output: 1\n"
          ]
        }
      ]
    },
    {
      "cell_type": "code",
      "source": [],
      "metadata": {
        "id": "otThyD1KTNJI"
      },
      "execution_count": null,
      "outputs": []
    }
  ]
}