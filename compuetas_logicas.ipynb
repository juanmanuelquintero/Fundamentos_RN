{
  "nbformat": 4,
  "nbformat_minor": 0,
  "metadata": {
    "colab": {
      "provenance": [],
      "authorship_tag": "ABX9TyPal7xugkS9AFquuRDpfRvq",
      "include_colab_link": true
    },
    "kernelspec": {
      "name": "python3",
      "display_name": "Python 3"
    },
    "language_info": {
      "name": "python"
    }
  },
  "cells": [
    {
      "cell_type": "markdown",
      "metadata": {
        "id": "view-in-github",
        "colab_type": "text"
      },
      "source": [
        "<a href=\"https://colab.research.google.com/github/juanmanuelquintero/Fundamentos_RN/blob/main/compuetas_logicas.ipynb\" target=\"_parent\"><img src=\"https://colab.research.google.com/assets/colab-badge.svg\" alt=\"Open In Colab\"/></a>"
      ]
    },
    {
      "cell_type": "markdown",
      "source": [
        "Compuerta AND"
      ],
      "metadata": {
        "id": "wxB3YQDwPHoA"
      }
    },
    {
      "cell_type": "code",
      "execution_count": 3,
      "metadata": {
        "colab": {
          "base_uri": "https://localhost:8080/"
        },
        "id": "uorC9tyZNvsm",
        "outputId": "f0945b75-146d-4a4a-fa76-d208d04496ed"
      },
      "outputs": [
        {
          "output_type": "stream",
          "name": "stdout",
          "text": [
            "Compuerta LOGICA OR\n",
            "\n",
            "Input: (1, 1) Output: 1\n",
            "Input: (1, 0) Output: 0\n",
            "Input: (0, 1) Output: 0\n",
            "Input: (0, 0) Output: 0\n"
          ]
        }
      ],
      "source": [
        "import numpy as np #libreria sirve para trabajar con vectores y operaciones matematicas\n",
        "\n",
        "#Paso 2 Crear la clase\n",
        "class MccullochPittsNeuron:\n",
        "  def __init__(self, weights, threshold): #CONSTRUCTOR DE LA NEURONA\n",
        "    self.weights = np.array(weights)  #CLNVERTIMOS LOS PESS EN UN ARRAY DE NUMPY\n",
        "    self.threshold = threshold    # ASIGNAMOS EL UMBRAL DE ACTIVACION\n",
        "\n",
        "  def activate(self, inputs):\n",
        "    inputs = np.array(inputs) #Convertir las entradas en un array de numpy\n",
        "    weighted_sum = np.dot(self.weights, inputs) #Esto toma la suma ponderada\n",
        "    return 1 if weighted_sum >= self.threshold else 0 # Si la suma supera el umbral devuelve 1 si no 0\n",
        "\n",
        "    #Definir pesos y umbral\n",
        "\n",
        "weights = [1, 1] #Pesos de la neurona\n",
        "threshold = 2  #Umbral\n",
        "\n",
        "\n",
        "#CREAR LA NEURONA\n",
        "\n",
        "neuron = MccullochPittsNeuron(weights, threshold)\n",
        "inputs_list = [(1,1),(1,0),(0,1),(0,0)]\n",
        "#Definir ñas entradas (Ejemplo de compuerta logica OR)\n",
        "\n",
        "#Evaluar la neurona\n",
        "print(\"Compuerta LOGICA AND\\n\")\n",
        "for inputs in inputs_list:\n",
        "  output = neuron.activate(inputs)\n",
        "  print(f\"Input: {inputs} Output: {output}\")"
      ]
    },
    {
      "cell_type": "markdown",
      "source": [
        "Compuerta OR"
      ],
      "metadata": {
        "id": "zhlbMZmDOdPy"
      }
    },
    {
      "cell_type": "code",
      "source": [
        "import numpy as np #libreria sirve para trabajar con vectores y operaciones matematicas\n",
        "\n",
        "#Paso 2 Crear la clase\n",
        "class MccullochPittsNeuron:\n",
        "  def __init__(self, weights, threshold): #CONSTRUCTOR DE LA NEURONA\n",
        "    self.weights = np.array(weights)  #CLNVERTIMOS LOS PESS EN UN ARRAY DE NUMPY\n",
        "    self.threshold = threshold    # ASIGNAMOS EL UMBRAL DE ACTIVACION\n",
        "\n",
        "  def activate(self, inputs):\n",
        "    inputs = np.array(inputs) #Convertir las entradas en un array de numpy\n",
        "    weighted_sum = np.dot(self.weights, inputs) #Esto toma la suma ponderada\n",
        "    return 1 if weighted_sum >= self.threshold else 0 # Si la suma supera el umbral devuelve 1 si no 0\n",
        "\n",
        "    #Definir pesos y umbral\n",
        "\n",
        "weights = [1, 1] #Pesos de la neurona\n",
        "threshold = 1  #Umbral\n",
        "\n",
        "\n",
        "#CREAR LA NEURONA\n",
        "\n",
        "neuron = MccullochPittsNeuron(weights, threshold)\n",
        "inputs_list = [(1,1),(1,0),(0,1),(0,0)]\n",
        "#Definir ñas entradas (Ejemplo de compuerta logica OR)\n",
        "\n",
        "#Evaluar la neurona\n",
        "print(\"Compuerta LOGICA OR\\n\")\n",
        "for inputs in inputs_list:\n",
        "  output = neuron.activate(inputs)\n",
        "  print(f\"Input: {inputs} Output: {output}\")"
      ],
      "metadata": {
        "id": "XhDOQdAMOnI9"
      },
      "execution_count": null,
      "outputs": []
    },
    {
      "cell_type": "markdown",
      "source": [
        "Compuerta NAND"
      ],
      "metadata": {
        "id": "gRDyzPy6PQn0"
      }
    },
    {
      "cell_type": "code",
      "source": [
        "import numpy as np #libreria sirve para trabajar con vectores y operaciones matematicas\n",
        "\n",
        "#Paso 2 Crear la clase\n",
        "class MccullochPittsNeuron:\n",
        "  def __init__(self, weights, threshold): #CONSTRUCTOR DE LA NEURONA\n",
        "    self.weights = np.array(weights)  #CLNVERTIMOS LOS PESS EN UN ARRAY DE NUMPY\n",
        "    self.threshold = threshold    # ASIGNAMOS EL UMBRAL DE ACTIVACION\n",
        "\n",
        "  def activate(self, inputs):\n",
        "    inputs = np.array(inputs) #Convertir las entradas en un array de numpy\n",
        "    weighted_sum = np.dot(self.weights, inputs) #Esto toma la suma ponderada\n",
        "    return 1 if weighted_sum >= self.threshold else 0 # Si la suma supera el umbral devuelve 1 si no 0\n",
        "\n",
        "    #Definir pesos y umbral\n",
        "\n",
        "weights = [-1, -1] #Pesos de la neurona\n",
        "threshold = -1  #Umbral\n",
        "\n",
        "\n",
        "#CREAR LA NEURONA\n",
        "\n",
        "neuron = MccullochPittsNeuron(weights, threshold)\n",
        "inputs_list = [(1,1),(1,0),(0,1),(0,0)]\n",
        "#Definir ñas entradas (Ejemplo de compuerta logica OR)\n",
        "\n",
        "#Evaluar la neurona\n",
        "print(\"Compuerta LOGICA NAND\\n\")\n",
        "for inputs in inputs_list:\n",
        "  output = neuron.activate(inputs)\n",
        "  print(f\"Input: {inputs} Output: {output}\")"
      ],
      "metadata": {
        "colab": {
          "base_uri": "https://localhost:8080/"
        },
        "id": "y2aDWssfPVzn",
        "outputId": "fc30e074-7978-4ac1-8ed9-eb0a618078e4"
      },
      "execution_count": 4,
      "outputs": [
        {
          "output_type": "stream",
          "name": "stdout",
          "text": [
            "Compuerta LOGICA OR\n",
            "\n",
            "Input: (1, 1) Output: 0\n",
            "Input: (1, 0) Output: 1\n",
            "Input: (0, 1) Output: 1\n",
            "Input: (0, 0) Output: 1\n"
          ]
        }
      ]
    },
    {
      "cell_type": "markdown",
      "source": [
        "Compuerta NOR"
      ],
      "metadata": {
        "id": "oZc4bYG1Pfzz"
      }
    },
    {
      "cell_type": "code",
      "source": [
        "import numpy as np #libreria sirve para trabajar con vectores y operaciones matematicas\n",
        "\n",
        "#Paso 2 Crear la clase\n",
        "class MccullochPittsNeuron:\n",
        "  def __init__(self, weights, threshold): #CONSTRUCTOR DE LA NEURONA\n",
        "    self.weights = np.array(weights)  #CLNVERTIMOS LOS PESS EN UN ARRAY DE NUMPY\n",
        "    self.threshold = threshold    # ASIGNAMOS EL UMBRAL DE ACTIVACION\n",
        "\n",
        "  def activate(self, inputs):\n",
        "    inputs = np.array(inputs) #Convertir las entradas en un array de numpy\n",
        "    weighted_sum = np.dot(self.weights, inputs) #Esto toma la suma ponderada\n",
        "    return 1 if weighted_sum >= self.threshold else 0 # Si la suma supera el umbral devuelve 1 si no 0\n",
        "\n",
        "    #Definir pesos y umbral\n",
        "\n",
        "weights = [-1, -1] #Pesos de la neurona\n",
        "threshold = 0  #Umbral\n",
        "\n",
        "\n",
        "#CREAR LA NEURONA\n",
        "\n",
        "neuron = MccullochPittsNeuron(weights, threshold)\n",
        "inputs_list = [(1,1),(1,0),(0,1),(0,0)]\n",
        "#Definir ñas entradas (Ejemplo de compuerta logica OR)\n",
        "\n",
        "#Evaluar la neurona\n",
        "print(\"Compuerta LOGICA OR\\n\")\n",
        "for inputs in inputs_list:\n",
        "  output = neuron.activate(inputs)\n",
        "  print(f\"Input: {inputs} Output: {output}\")"
      ],
      "metadata": {
        "colab": {
          "base_uri": "https://localhost:8080/"
        },
        "id": "6iVUVCQ_Pj2I",
        "outputId": "190eae05-0aa6-4943-a538-634e479d9b16"
      },
      "execution_count": 5,
      "outputs": [
        {
          "output_type": "stream",
          "name": "stdout",
          "text": [
            "Compuerta LOGICA OR\n",
            "\n",
            "Input: (1, 1) Output: 0\n",
            "Input: (1, 0) Output: 0\n",
            "Input: (0, 1) Output: 0\n",
            "Input: (0, 0) Output: 1\n"
          ]
        }
      ]
    },
    {
      "cell_type": "markdown",
      "source": [
        "Compuerta NOT\n"
      ],
      "metadata": {
        "id": "DN2snioLPupB"
      }
    },
    {
      "cell_type": "code",
      "source": [
        "import numpy as np #libreria sirve para trabajar con vectores y operaciones matematicas\n",
        "\n",
        "#Paso 2 Crear la clase\n",
        "class MccullochPittsNeuron:\n",
        "  def __init__(self, weights, threshold): #CONSTRUCTOR DE LA NEURONA\n",
        "    self.weights = np.array(weights)  #CLNVERTIMOS LOS PESS EN UN ARRAY DE NUMPY\n",
        "    self.threshold = threshold    # ASIGNAMOS EL UMBRAL DE ACTIVACION\n",
        "\n",
        "  def activate(self, inputs):\n",
        "    inputs = np.array(inputs) #Convertir las entradas en un array de numpy\n",
        "    weighted_sum = np.dot(self.weights, inputs) #Esto toma la suma ponderada\n",
        "    return 1 if weighted_sum >= self.threshold else 0 # Si la suma supera el umbral devuelve 1 si no 0\n",
        "\n",
        "    #Definir pesos y umbral\n",
        "\n",
        "weights = [-1] #Pesos de la neurona\n",
        "threshold = 0  #Umbral\n",
        "\n",
        "\n",
        "#CREAR LA NEURONA\n",
        "\n",
        "neuron = MccullochPittsNeuron(weights, threshold)\n",
        "inputs_list = [(1),(0)]\n",
        "#Definir ñas entradas (Ejemplo de compuerta logica OR)\n",
        "\n",
        "#Evaluar la neurona\n",
        "print(\"Compuerta LOGICA NOT\\n\")\n",
        "for inputs in inputs_list:\n",
        "  output = neuron.activate(inputs)\n",
        "  print(f\"Input: {inputs} Output: {output}\")"
      ],
      "metadata": {
        "colab": {
          "base_uri": "https://localhost:8080/"
        },
        "id": "4XAAwhvLPzwI",
        "outputId": "4ca2ec08-2e89-4f9b-e71e-4c813bc20b71"
      },
      "execution_count": 7,
      "outputs": [
        {
          "output_type": "stream",
          "name": "stdout",
          "text": [
            "Compuerta LOGICA NOT\n",
            "\n",
            "Input: 1 Output: 0\n",
            "Input: 0 Output: 1\n"
          ]
        }
      ]
    },
    {
      "cell_type": "markdown",
      "source": [
        "Compuerta ligica XOR"
      ],
      "metadata": {
        "id": "jvikDOFyeP-i"
      }
    },
    {
      "cell_type": "code",
      "source": [
        "import tensorflow as tf\n",
        "from tensorflow import keras\n",
        "import numpy as np\n",
        "\n",
        "# Datos de entrada (Ejemplo: problema binario)\n",
        "x = np.array([\n",
        "    [0, 0], [0, 1], [1, 0], [1, 1]\n",
        "])  # Entradas (2 características)\n",
        "\n",
        "# Salidas esperadas (Ejemplo: compuerta XOR)\n",
        "y = np.array([\n",
        "    [0], [1], [1], [0]\n",
        "])  # Salidas esperadas (0 o 1)\n",
        "\n",
        "# Definir la red neuronal\n",
        "modelo = keras.Sequential([\n",
        "    keras.layers.Dense(4, activation='relu', input_shape=(2,)),  # Capa oculta con 4 neuronas y activación ReLU\n",
        "    keras.layers.Dense(4, activation='relu'),  # Segunda capa oculta con 4 neuronas\n",
        "    keras.layers.Dense(1, activation='sigmoid')  # Capa de salida con 1 neurona y activación sigmoide\n",
        "])\n",
        "\n",
        "# Compilar el modelo\n",
        "modelo.compile(optimizer='adam', loss='binary_crossentropy', metrics=['accuracy'])\n",
        "\n",
        "# Entrenar el modelo\n",
        "modelo.fit(x, y, epochs=1000, verbose=0)  # Entrenamiento con 1000 épocas\n",
        "\n",
        "# Evaluar el modelo\n",
        "print(\"Resultados:\")\n",
        "for entrada in x:\n",
        "    salida = modelo.predict(np.array([entrada]))  # Hacer la predicción\n",
        "    print(f\"Entrada: {entrada} -> Salida: {salida.round()}\")  # Redondeamos la salida\n"
      ],
      "metadata": {
        "colab": {
          "base_uri": "https://localhost:8080/"
        },
        "id": "otThyD1KTNJI",
        "outputId": "50266f98-449e-4571-c6ee-7f1ecb9c5bdc"
      },
      "execution_count": 13,
      "outputs": [
        {
          "output_type": "stream",
          "name": "stdout",
          "text": [
            "Resultados:\n",
            "\u001b[1m1/1\u001b[0m \u001b[32m━━━━━━━━━━━━━━━━━━━━\u001b[0m\u001b[37m\u001b[0m \u001b[1m0s\u001b[0m 61ms/step\n",
            "Entrada: [0 0] -> Salida: [[0.]]\n",
            "\u001b[1m1/1\u001b[0m \u001b[32m━━━━━━━━━━━━━━━━━━━━\u001b[0m\u001b[37m\u001b[0m \u001b[1m0s\u001b[0m 31ms/step\n",
            "Entrada: [0 1] -> Salida: [[1.]]\n",
            "\u001b[1m1/1\u001b[0m \u001b[32m━━━━━━━━━━━━━━━━━━━━\u001b[0m\u001b[37m\u001b[0m \u001b[1m0s\u001b[0m 31ms/step\n",
            "Entrada: [1 0] -> Salida: [[1.]]\n",
            "\u001b[1m1/1\u001b[0m \u001b[32m━━━━━━━━━━━━━━━━━━━━\u001b[0m\u001b[37m\u001b[0m \u001b[1m0s\u001b[0m 31ms/step\n",
            "Entrada: [1 1] -> Salida: [[0.]]\n"
          ]
        }
      ]
    },
    {
      "cell_type": "markdown",
      "source": [
        "Compuerta XOR - con grafica"
      ],
      "metadata": {
        "id": "9-yaynEUnK3t"
      }
    },
    {
      "cell_type": "code",
      "source": [
        "import tensorflow as tf\n",
        "from tensorflow import keras\n",
        "import numpy as np\n",
        "import matplotlib.pyplot as plt\n",
        "\n",
        "# Datos de entrada (Ejemplo: problema binario)\n",
        "x = np.array([[0, 0], [0, 1], [1, 0], [1, 1]])  # Entradas (2 características)\n",
        "y = np.array([[0], [1], [1], [0]])  # Salidas esperadas (0 o 1)\n",
        "\n",
        "# Definir la red neuronal\n",
        "modelo = keras.Sequential([\n",
        "    keras.layers.Dense(4, activation='relu', input_shape=(2,)),  # Capa oculta con 4 neuronas y activación ReLU\n",
        "    keras.layers.Dense(4, activation='relu'),  # Segunda capa oculta con 4 neuronas\n",
        "    keras.layers.Dense(1, activation='sigmoid')  # Capa de salida con 1 neurona y activación sigmoide\n",
        "])\n",
        "\n",
        "# Compilar el modelo\n",
        "modelo.compile(optimizer='adam', loss='binary_crossentropy', metrics=['accuracy'])\n",
        "\n",
        "# Entrenar el modelo y guardar el historial\n",
        "historial = modelo.fit(x, y, epochs=100, verbose=0, validation_data=(x, y))\n",
        "\n",
        "# Evaluar el modelo\n",
        "print(\"Resultados:\")\n",
        "for entrada in x:\n",
        "    salida = modelo.predict(np.array([entrada]))  # Hacer la predicción\n",
        "    print(f\"Entrada: {entrada} -> Salida: {salida.round()}\")  # Redondeamos la salida\n",
        "\n",
        "# Graficar la pérdida y la precisión\n",
        "plt.figure(figsize=(12, 5))\n",
        "\n",
        "# Gráfica de pérdida\n",
        "plt.subplot(1, 2, 1)\n",
        "plt.plot(historial.history['loss'], label='Pérdida')\n",
        "plt.title('Evolución de la Pérdida')\n",
        "plt.xlabel('Épocas')\n",
        "plt.ylabel('Pérdida')\n",
        "plt.legend()\n",
        "\n",
        "# Gráfica de precisión\n",
        "plt.subplot(1, 2, 2)\n",
        "plt.plot(historial.history['accuracy'], label='Precisión', color='green')\n",
        "plt.title('Evolución de la Precisión')\n",
        "plt.xlabel('Épocas')\n",
        "plt.ylabel('Precisión')\n",
        "plt.legend()\n",
        "\n",
        "plt.show()\n"
      ],
      "metadata": {
        "collapsed": true,
        "colab": {
          "base_uri": "https://localhost:8080/",
          "height": 573
        },
        "id": "5e30DjsNjGZK",
        "outputId": "c48b2b48-6df0-409d-aeb3-ba2968dace5e"
      },
      "execution_count": 19,
      "outputs": [
        {
          "output_type": "stream",
          "name": "stdout",
          "text": [
            "Resultados:\n",
            "\u001b[1m1/1\u001b[0m \u001b[32m━━━━━━━━━━━━━━━━━━━━\u001b[0m\u001b[37m\u001b[0m \u001b[1m0s\u001b[0m 62ms/step\n",
            "Entrada: [0 0] -> Salida: [[0.]]\n",
            "\u001b[1m1/1\u001b[0m \u001b[32m━━━━━━━━━━━━━━━━━━━━\u001b[0m\u001b[37m\u001b[0m \u001b[1m0s\u001b[0m 31ms/step\n",
            "Entrada: [0 1] -> Salida: [[1.]]\n",
            "\u001b[1m1/1\u001b[0m \u001b[32m━━━━━━━━━━━━━━━━━━━━\u001b[0m\u001b[37m\u001b[0m \u001b[1m0s\u001b[0m 31ms/step\n",
            "Entrada: [1 0] -> Salida: [[1.]]\n",
            "\u001b[1m1/1\u001b[0m \u001b[32m━━━━━━━━━━━━━━━━━━━━\u001b[0m\u001b[37m\u001b[0m \u001b[1m0s\u001b[0m 30ms/step\n",
            "Entrada: [1 1] -> Salida: [[0.]]\n"
          ]
        },
        {
          "output_type": "display_data",
          "data": {
            "text/plain": [
              "<Figure size 1200x500 with 2 Axes>"
            ],
            "image/png": "[encoded data removed]"
          },
          "metadata": {}
        }
      ]
    }
  ]
}